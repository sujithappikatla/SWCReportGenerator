{
 "cells": [
  {
   "cell_type": "code",
   "execution_count": 178,
   "id": "9cfd463b",
   "metadata": {},
   "outputs": [
    {
     "data": {
      "text/plain": [
       "''"
      ]
     },
     "execution_count": 178,
     "metadata": {},
     "output_type": "execute_result"
    }
   ],
   "source": [
    "#Import tkinter library\n",
    "from tkinter import *\n",
    "from tkinter import filedialog\n",
    "#Create an instance of Tkinter frame or window\n",
    "win= Tk()\n",
    "win.title(\"SWC Report Generator\")\n",
    "#Set the geometry of tkinter frame\n",
    "# win.geometry(\"500x750\")"
   ]
  },
  {
   "cell_type": "markdown",
   "id": "0b1e2cbf",
   "metadata": {},
   "source": [
    "## File Names Variables"
   ]
  },
  {
   "cell_type": "code",
   "execution_count": 179,
   "id": "f24b13e2",
   "metadata": {},
   "outputs": [],
   "source": [
    "Slot1FilePath = \"\"\n",
    "Slot2FilePath = \"\"\n",
    "DebriefingAttendanceFilePath = \"\"\n",
    "UsersDataJsonFilePaths = \"\""
   ]
  },
  {
   "cell_type": "markdown",
   "id": "c496709b",
   "metadata": {},
   "source": [
    "## Slot1 Excel Upload Code"
   ]
  },
  {
   "cell_type": "code",
   "execution_count": 180,
   "id": "01359e94",
   "metadata": {},
   "outputs": [],
   "source": [
    "def browseSlot1Excel():\n",
    "    Slot1FilePath = filedialog.askopenfilename(initialdir = \"/\",\n",
    "                                          title = \"Select a File\",\n",
    "                                          filetypes = ((\"Excel files .xlsx\",\n",
    "                                                        \"*.xlsx*\"),\n",
    "                                                       ))\n",
    "      \n",
    "    # Change label contents\n",
    "    Slot1FileLabel.configure(text=\"File Opened: \"+Slot1FilePath)"
   ]
  },
  {
   "cell_type": "code",
   "execution_count": 181,
   "id": "f7823bca",
   "metadata": {},
   "outputs": [],
   "source": [
    "Slot1ExcelButton = Button(win,text = \"Upload Slot1 Excel File\", command = browseSlot1Excel)\n",
    "Slot1FileLabel = Label(win, text = \" \",width = 70, fg = \"blue\")\n",
    "\n",
    "Slot1ExcelButton.grid(column = 1, row = 1, pady=5, padx=(30,30))\n",
    "Slot1FileLabel.grid(column = 2, row = 1)"
   ]
  },
  {
   "cell_type": "markdown",
   "id": "f25abbea",
   "metadata": {},
   "source": [
    "## Slot2 Excel Upload Code"
   ]
  },
  {
   "cell_type": "code",
   "execution_count": 182,
   "id": "2b5b131c",
   "metadata": {},
   "outputs": [],
   "source": [
    "def browseSlot2Excel():\n",
    "    Slot2FilePath = filedialog.askopenfilename(initialdir = \"/\",\n",
    "                                          title = \"Select a File\",\n",
    "                                          filetypes = ((\"Excel files .xlsx\",\n",
    "                                                        \"*.xlsx*\"),\n",
    "                                                       ))\n",
    "      \n",
    "    # Change label contents\n",
    "    Slot2FileLabel.configure(text=\"File Opened: \"+Slot2FilePath)"
   ]
  },
  {
   "cell_type": "code",
   "execution_count": 183,
   "id": "434c58e3",
   "metadata": {},
   "outputs": [],
   "source": [
    "Slot2ExcelButton = Button(win,text = \"Upload Slot2 Excel File\", command = browseSlot2Excel)\n",
    "Slot2FileLabel = Label(win, text = \" \",width = 70, fg = \"blue\")\n",
    "\n",
    "Slot2ExcelButton.grid(column = 1, row = 2, pady=5, padx=(30,30))\n",
    "Slot2FileLabel.grid(column = 2, row = 2)"
   ]
  },
  {
   "cell_type": "markdown",
   "id": "f8fb7f57",
   "metadata": {},
   "source": [
    "## Users Code Submission data json upload Code"
   ]
  },
  {
   "cell_type": "code",
   "execution_count": 184,
   "id": "cc338ae1",
   "metadata": {},
   "outputs": [],
   "source": [
    "def browseUsersDataJson():\n",
    "    UsersDataJsonFilePaths = filedialog.askopenfilenames(initialdir = \"/\",\n",
    "                                          title = \"Select Files\",\n",
    "                                          filetypes = ((\"Json files .json\",\n",
    "                                                        \"*.xlsx*\"),\n",
    "                                                       ))\n",
    "    UsersDataJsonFilePaths = list(UsersDataJsonFilePaths)\n",
    "    text_out = \"\"\n",
    "    for path in UsersDataJsonFilePaths:\n",
    "        text_out = text_out + \"\\n\" + path\n",
    "    # Change label contents\n",
    "    UsersDataFileLabel.configure(text=\"Files Opened: \"+text_out)\n",
    "    print(UsersDataJsonFilePaths)"
   ]
  },
  {
   "cell_type": "code",
   "execution_count": 185,
   "id": "07ea686e",
   "metadata": {},
   "outputs": [],
   "source": [
    "UsersDataJsonButton = Button(win,text = \"Upload Users data Json Files\", command = browseUsersDataJson)\n",
    "UsersDataFileLabel = Label(win, text = \" \",width = 70, fg = \"blue\")\n",
    "\n",
    "UsersDataJsonButton.grid(column = 1, row = 3, pady=5, padx=(30,30))\n",
    "UsersDataFileLabel.grid(column = 2, row = 3)"
   ]
  },
  {
   "cell_type": "markdown",
   "id": "37e35266",
   "metadata": {},
   "source": [
    "## Debriefing Attendance Excel Upload Code"
   ]
  },
  {
   "cell_type": "code",
   "execution_count": 186,
   "id": "e8d72184",
   "metadata": {},
   "outputs": [],
   "source": [
    "def browseDebriefingAttendanceExcel():\n",
    "    DebriefingAttendanceFilePath = filedialog.askopenfilename(initialdir = \"/\",\n",
    "                                          title = \"Select a File\",\n",
    "                                          filetypes = ((\"Excel files .xlsx\",\n",
    "                                                        \"*.xlsx*\"),\n",
    "                                                       ))\n",
    "      \n",
    "    # Change label contents\n",
    "    DebriefingAttendanceFileLabel.configure(text=\"File Opened: \"+DebriefingAttendanceFilePath)"
   ]
  },
  {
   "cell_type": "code",
   "execution_count": 187,
   "id": "ac7b7fdd",
   "metadata": {},
   "outputs": [],
   "source": [
    "DebriefingAttendanceExcelButton = Button(win,text = \"Upload Debriefing Attendance Excel File\", command = browseDebriefingAttendanceExcel)\n",
    "DebriefingAttendanceFileLabel = Label(win, text = \" \",width = 70, fg = \"blue\")\n",
    "\n",
    "DebriefingAttendanceExcelButton.grid(column = 1, row = 4, pady=5, padx=(30,30))\n",
    "DebriefingAttendanceFileLabel.grid(column = 2, row = 4)"
   ]
  },
  {
   "cell_type": "markdown",
   "id": "c5de8b22",
   "metadata": {},
   "source": [
    "## Run Application"
   ]
  },
  {
   "cell_type": "code",
   "execution_count": 188,
   "id": "144ff64f",
   "metadata": {
    "scrolled": true
   },
   "outputs": [
    {
     "name": "stdout",
     "output_type": "stream",
     "text": [
      "['P:/Python/NOTEBOOKS/ExcelAutomation/merged.xlsx', 'P:/Python/NOTEBOOKS/ExcelAutomation/sheet1.xlsx', 'P:/Python/NOTEBOOKS/ExcelAutomation/sheet2.xlsx']\n"
     ]
    }
   ],
   "source": [
    "win.bind('<Return>',lambda event:callback())\n",
    "win.mainloop()"
   ]
  },
  {
   "cell_type": "code",
   "execution_count": null,
   "id": "153a493b",
   "metadata": {},
   "outputs": [],
   "source": []
  },
  {
   "cell_type": "code",
   "execution_count": null,
   "id": "1930f6db",
   "metadata": {},
   "outputs": [],
   "source": []
  }
 ],
 "metadata": {
  "kernelspec": {
   "display_name": "Python 3 (ipykernel)",
   "language": "python",
   "name": "python3"
  },
  "language_info": {
   "codemirror_mode": {
    "name": "ipython",
    "version": 3
   },
   "file_extension": ".py",
   "mimetype": "text/x-python",
   "name": "python",
   "nbconvert_exporter": "python",
   "pygments_lexer": "ipython3",
   "version": "3.9.12"
  }
 },
 "nbformat": 4,
 "nbformat_minor": 5
}
