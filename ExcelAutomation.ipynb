{
 "cells": [
  {
   "cell_type": "code",
   "execution_count": 185,
   "id": "c5625cf7",
   "metadata": {},
   "outputs": [],
   "source": [
    "from openpyxl import Workbook, load_workbook\n",
    "from openpyxl.styles import Color, PatternFill, Font, Border\n",
    "from openpyxl.styles import colors\n",
    "from openpyxl.styles.borders import Border, Side"
   ]
  },
  {
   "cell_type": "code",
   "execution_count": 186,
   "id": "6287772a",
   "metadata": {},
   "outputs": [],
   "source": [
    "users_data = {}\n",
    "\n",
    "def add_user(username, submitCount, answerCount, problem1):\n",
    "    if username in users_data:\n",
    "        if users_data[username][\"problem1\"] < problem1:\n",
    "            users_data[username][\"submitCount\"] = submitCount\n",
    "            users_data[username][\"answerCount\"] = answerCount\n",
    "            users_data[username][\"problem1\"] = problem1\n",
    "    else:\n",
    "        users_data[username] = {}\n",
    "        users_data[username][\"submitCount\"] = submitCount\n",
    "        users_data[username][\"answerCount\"] = answerCount\n",
    "        users_data[username][\"problem1\"] = problem1"
   ]
  },
  {
   "cell_type": "code",
   "execution_count": 187,
   "id": "b7c83aa4",
   "metadata": {},
   "outputs": [
    {
     "name": "stdout",
     "output_type": "stream",
     "text": [
      "{'s.appikatla': {'submitCount': 1, 'answerCount': 1, 'problem1': 100}, 'a.b': {'submitCount': 2, 'answerCount': 0, 'problem1': 0}, 'b.c': {'submitCount': 5, 'answerCount': 0, 'problem1': 33.7}, 'c.d': {'submitCount': 0, 'answerCount': 0, 'problem1': None}, 'd.e': {'submitCount': 1, 'answerCount': 0, 'problem1': 25.7}}\n"
     ]
    }
   ],
   "source": [
    "wb1 = load_workbook(\"sheet1.xlsx\")\n",
    "ws1 = wb1.active\n",
    "\n",
    "column_b = ws1['B']\n",
    "number_of_rows = len(column_b)\n",
    "\n",
    "for row in range(4,number_of_rows+1):\n",
    "    # print(f'{ws1[\"B\"+str(row)].value}')\n",
    "    uN = ws1[\"B\"+str(row)].value\n",
    "    sC = ws1[\"C\"+str(row)].value\n",
    "    aC = ws1[\"D\"+str(row)].value\n",
    "    p1 = ws1[\"E\"+str(row)].value\n",
    "    add_user(uN, sC, aC, p1)\n",
    "    \n",
    "print(users_data)"
   ]
  },
  {
   "cell_type": "code",
   "execution_count": 188,
   "id": "6913810a",
   "metadata": {},
   "outputs": [
    {
     "name": "stdout",
     "output_type": "stream",
     "text": [
      "{'s.appikatla': {'submitCount': 1, 'answerCount': 1, 'problem1': 100}, 'a.b': {'submitCount': 2, 'answerCount': 0, 'problem1': 0}, 'b.c': {'submitCount': 5, 'answerCount': 0, 'problem1': 33.7}, 'c.d': {'submitCount': 0, 'answerCount': 0, 'problem1': None}, 'd.e': {'submitCount': 1, 'answerCount': 0, 'problem1': 88}, 'z.x': {'submitCount': 9, 'answerCount': 0, 'problem1': 0}, 'v.x': {'submitCount': 0, 'answerCount': 0, 'problem1': None}, 'z.a': {'submitCount': 10, 'answerCount': 1, 'problem1': 100}}\n"
     ]
    }
   ],
   "source": [
    "wb2 = load_workbook(\"sheet2.xlsx\")\n",
    "ws2 = wb2.active\n",
    "\n",
    "column_b = ws2['B']\n",
    "number_of_rows = len(column_b)\n",
    "\n",
    "for row in range(4,number_of_rows+1):\n",
    "    # print(f'{ws1[\"B\"+str(row)].value}')\n",
    "    uN = ws2[\"B\"+str(row)].value\n",
    "    sC = ws2[\"C\"+str(row)].value\n",
    "    aC = ws2[\"D\"+str(row)].value\n",
    "    p1 = ws2[\"E\"+str(row)].value\n",
    "    add_user(uN, sC, aC, p1)\n",
    "    \n",
    "print(users_data)"
   ]
  },
  {
   "cell_type": "code",
   "execution_count": 189,
   "id": "6fe14a8b",
   "metadata": {},
   "outputs": [],
   "source": [
    "users_data = dict(sorted(users_data.items()))"
   ]
  },
  {
   "cell_type": "code",
   "execution_count": 190,
   "id": "ddc6e089",
   "metadata": {},
   "outputs": [
    {
     "name": "stdout",
     "output_type": "stream",
     "text": [
      "{\n",
      "    \"a.b\": {\n",
      "        \"submitCount\": 2,\n",
      "        \"answerCount\": 0,\n",
      "        \"problem1\": 0\n",
      "    },\n",
      "    \"b.c\": {\n",
      "        \"submitCount\": 5,\n",
      "        \"answerCount\": 0,\n",
      "        \"problem1\": 33.7\n",
      "    },\n",
      "    \"c.d\": {\n",
      "        \"submitCount\": 0,\n",
      "        \"answerCount\": 0,\n",
      "        \"problem1\": null\n",
      "    },\n",
      "    \"d.e\": {\n",
      "        \"submitCount\": 1,\n",
      "        \"answerCount\": 0,\n",
      "        \"problem1\": 88\n",
      "    },\n",
      "    \"s.appikatla\": {\n",
      "        \"submitCount\": 1,\n",
      "        \"answerCount\": 1,\n",
      "        \"problem1\": 100\n",
      "    },\n",
      "    \"v.x\": {\n",
      "        \"submitCount\": 0,\n",
      "        \"answerCount\": 0,\n",
      "        \"problem1\": null\n",
      "    },\n",
      "    \"z.a\": {\n",
      "        \"submitCount\": 10,\n",
      "        \"answerCount\": 1,\n",
      "        \"problem1\": 100\n",
      "    },\n",
      "    \"z.x\": {\n",
      "        \"submitCount\": 9,\n",
      "        \"answerCount\": 0,\n",
      "        \"problem1\": 0\n",
      "    }\n",
      "}\n"
     ]
    }
   ],
   "source": [
    "import json\n",
    "print(json.dumps(users_data, indent=4))"
   ]
  },
  {
   "cell_type": "code",
   "execution_count": 191,
   "id": "f23ac1a3",
   "metadata": {},
   "outputs": [],
   "source": [
    "def decorate_sheet(merged_ws):\n",
    "    Fill = PatternFill(start_color='FFC6EfCE',end_color='FFC6EfCE', fill_type='solid')\n",
    "    merged_ws[\"F3\"].fill  = Fill\n",
    "    merged_ws[\"G3\"].fill  = Fill\n",
    "    Border_ = Border(left=Side(style='thin'), \n",
    "                     right=Side(style='thin'), \n",
    "                     top=Side(style='thin'), \n",
    "                     bottom=Side(style='thin'))\n",
    "    merged_ws[\"A3\"].border = Border_\n",
    "    merged_ws[\"B3\"].border = Border_\n",
    "    merged_ws[\"C3\"].border = Border_\n",
    "    merged_ws[\"D3\"].border = Border_\n",
    "    merged_ws[\"E3\"].border = Border_\n",
    "    merged_ws[\"F3\"].border = Border_"
   ]
  },
  {
   "cell_type": "code",
   "execution_count": 192,
   "id": "f5cf514d",
   "metadata": {},
   "outputs": [
    {
     "name": "stdout",
     "output_type": "stream",
     "text": [
      "users_count : 8\n"
     ]
    }
   ],
   "source": [
    "\n",
    "merged_wb = Workbook()\n",
    "merged_ws = merged_wb.active\n",
    "\n",
    "users_count = len(users_data)\n",
    "print(f'users_count : {users_count}')\n",
    "\n",
    "keys = list(users_data.keys())\n",
    "#print(keys[0])\n",
    "\n",
    "merged_ws[\"A3\"] = \"S No\"\n",
    "merged_ws[\"B3\"] = \"Emp Id\"\n",
    "merged_ws[\"C3\"] = \"Submit Count\"\n",
    "merged_ws[\"D3\"] = \"Answer Count\"\n",
    "merged_ws[\"E3\"] = \"Problem1\"\n",
    "merged_ws[\"F3\"] = \"Submitted\"\n",
    "merged_ws[\"G3\"] = \"Answered\"\n",
    "\n",
    "\n",
    "for row in range(4, 4+1+users_count):\n",
    "    merged_ws[\"A\"+str(row)] = row-4+1\n",
    "    merged_ws[\"B\"+str(row)] = keys[row-4-1]\n",
    "    merged_ws[\"C\"+str(row)] = users_data[keys[row-4-1]][\"submitCount\"]\n",
    "    merged_ws[\"D\"+str(row)] = users_data[keys[row-4-1]][\"answerCount\"]\n",
    "    if users_data[keys[row-4-1]][\"problem1\"] is not None:\n",
    "        merged_ws[\"E\"+str(row)] = users_data[keys[row-4-1]][\"problem1\"]\n",
    "    merged_ws[\"F\"+str(row)] = '=IF(C'+str(row) + '>0,\"YES\", \"NO\")'\n",
    "    merged_ws[\"G\"+str(row)] = '=IF(E'+str(row) + '=100,\"YES\", \"NO\")'\n",
    "    \n",
    "    # colors\n",
    "    merged_ws[\"F\"+str(row)].font = Font(color=\"FF0000\")\n",
    "    merged_ws[\"G\"+str(row)].font = Font(color=\"FF0000\")\n",
    "\n",
    "decorate_sheet(merged_ws)\n",
    "        \n",
    "merged_wb.save(\"merged.xlsx\")"
   ]
  },
  {
   "cell_type": "code",
   "execution_count": null,
   "id": "4d1c3acc",
   "metadata": {},
   "outputs": [],
   "source": []
  }
 ],
 "metadata": {
  "kernelspec": {
   "display_name": "Python 3 (ipykernel)",
   "language": "python",
   "name": "python3"
  },
  "language_info": {
   "codemirror_mode": {
    "name": "ipython",
    "version": 3
   },
   "file_extension": ".py",
   "mimetype": "text/x-python",
   "name": "python",
   "nbconvert_exporter": "python",
   "pygments_lexer": "ipython3",
   "version": "3.9.12"
  }
 },
 "nbformat": 4,
 "nbformat_minor": 5
}
